{
 "cells": [
  {
   "cell_type": "code",
   "execution_count": 1,
   "metadata": {},
   "outputs": [],
   "source": [
    "#The required packages \n",
    "import numpy as np\n",
    "import pandas as pd\n",
    "\n",
    "from scipy.stats import beta\n",
    "from scipy.stats import gamma\n",
    "\n",
    "import matplotlib.pyplot as plt"
   ]
  },
  {
   "cell_type": "code",
   "execution_count": 2,
   "metadata": {},
   "outputs": [],
   "source": [
    "#Function for selecting price from a price scheme for each sample.\n",
    "\n",
    "# We assumed the last entrant always gets only half the expected market share. So if we have n-1 entry, the nth firm's \n",
    "# market share will be B/(2n) and it will enter if its profit, pi=p(n)-C-((2n*F)/B), is bigger of equal to zero. \n",
    "# The first price in each price scheme is 1, so this function set the price equal 1 for zero entry.\n",
    "\n",
    "def FPS(b,c,f,scheme):\n",
    "    d=len(b) #Number of samples\n",
    "    scheme = scheme[~np.isnan(scheme)] #Delete NaN value from the scheme\n",
    "    Ls=len(scheme) #length of the price scheme\n",
    "    \n",
    "    Ns=np.zeros(d) #Number of entry for each sample\n",
    "    Ps=np.ones(d) #Selected price for each sample\n",
    "\n",
    "    for i in range(d):\n",
    "        n=0 \n",
    "        pn=scheme[0] \n",
    "        pn1=scheme[1] #price of the next entry\n",
    "        pi=pn1-c[i]-((f[i])/b[i]) #profit of the first entry. \n",
    "        \n",
    "        while (0<= pi):\n",
    "            n=n+1 #Number of entries\n",
    "            pn=pn1 #Price when we have n entries\n",
    "            \n",
    "            if (n+1) < Ls:\n",
    "                pn1=scheme[n+1]\n",
    "            else:\n",
    "                pn1=scheme[Ls-1]\n",
    "                \n",
    "            pi=pn1-c[i]-((2*(n+1)*f[i])/b[i]) #profit of the next entry.\n",
    "        \n",
    "        Ns[i]=n\n",
    "        Ps[i]=pn \n",
    "\n",
    "    return Ns,Ps"
   ]
  },
  {
   "cell_type": "code",
   "execution_count": 3,
   "metadata": {},
   "outputs": [],
   "source": [
    "#Set up the parameters\n",
    "\n",
    "B_shape, B_scale = 1.5, 10000000 #gamma function for B large country\n",
    "b_shape, b_scale = 1.5, 2000000 #gamma function for B small country\n",
    "C_alpha, C_beta = 1.3, 5 #beta function for C\n",
    "F_min,F_max=30000, 500000 #min and max of the fixed cost"
   ]
  },
  {
   "cell_type": "code",
   "execution_count": 4,
   "metadata": {},
   "outputs": [
    {
     "data": {
      "image/png": "[encoded data removed]",
      "text/plain": [
       "<Figure size 432x288 with 1 Axes>"
      ]
     },
     "metadata": {},
     "output_type": "display_data"
    },
    {
     "data": {
      "image/png": "[encoded data removed]",
      "text/plain": [
       "<Figure size 432x288 with 1 Axes>"
      ]
     },
     "metadata": {},
     "output_type": "display_data"
    }
   ],
   "source": [
    "#Plot the probability distributions\n",
    "\n",
    "#Plot the probability distribution for B\n",
    "fig, ax = plt.subplots(1, 1)\n",
    "x = np.linspace(gamma.ppf(0, B_shape, scale=B_scale), gamma.ppf(0.999, B_shape, scale=B_scale), 100)\n",
    "plt.suptitle('PDF of Brand Revenues: Large Country', fontsize=12)\n",
    "ax.plot(x, gamma.pdf(x, B_shape, scale=B_scale),'r-', lw=4, alpha=1, label='gamma pdf')\n",
    "fig.savefig('Brand_Revenues.png')\n",
    "\n",
    "#Plot the probability distribution for C\n",
    "fig, ax = plt.subplots(1, 1)\n",
    "x = np.linspace(beta.ppf(0, C_alpha, C_beta), beta.ppf(1, C_alpha, C_beta), 1000)\n",
    "plt.suptitle('PDF of Generic Variable Cost as a fraction of Brand Price', fontsize=12)\n",
    "ax.plot(x, beta.pdf(x, C_alpha, C_beta),'r-', lw=4, alpha=1, label='beta pdf')\n",
    "fig.savefig('Generic_Variable_Cost.png')"
   ]
  },
  {
   "cell_type": "code",
   "execution_count": 5,
   "metadata": {},
   "outputs": [],
   "source": [
    "#Random draw for each of the main variables\n",
    "\n",
    "D=10000 #Number of samples\n",
    "B = np.random.gamma(B_shape, B_scale, D) #Brand market size for large countries\n",
    "b = np.random.gamma(b_shape, b_scale, D) #Brand market size for small countries\n",
    "C = np.random.beta(C_alpha, C_beta, D) #Generic variable cost\n",
    "F = np.random.uniform( F_min, F_max, D) #Generic entry cost, per year"
   ]
  },
  {
   "cell_type": "code",
   "execution_count": 6,
   "metadata": {},
   "outputs": [],
   "source": [
    "MP=C+(F/B) #Minimum price for one entry for large countries. \n",
    "\n",
    "Mp=C+(F/b) #Minimum price for one entry for small countries. \n",
    "\n",
    "\n",
    "#Set prices equal to one if they are bigger than one. \n",
    "\n",
    "MP=np.clip(MP, 0, 1) \n",
    "\n",
    "Mp=np.clip(Mp, 0, 1) \n",
    "\n",
    "AMP=np.mean(MP) #Average minimum prices for large countries\n",
    "\n",
    "AMp=np.mean(Mp) #Average minimum prices for large countries"
   ]
  },
  {
   "cell_type": "code",
   "execution_count": 7,
   "metadata": {},
   "outputs": [],
   "source": [
    "Schemes = pd.read_excel('Tiers.xlsx',header=0) #reading price scheme from the excel file\n",
    "\n",
    "columns = pd.Index(['AMP','WAP', 'ACE', 'AGP','ANE','ShBP'])\n",
    "index = pd.Index(Schemes.columns, name=\"Model\")\n",
    "\n",
    "Tab_L = pd.DataFrame(index=index, columns=columns) # define the result table for large countries\n",
    "Tab_S = pd.DataFrame(index=index, columns=columns) # define the result table for small countries"
   ]
  },
  {
   "cell_type": "code",
   "execution_count": 8,
   "metadata": {},
   "outputs": [],
   "source": [
    "#Calculating the Results for large countries\n",
    "\n",
    "for Sch in Schemes.columns:\n",
    "    NS,PS=FPS(B,C,F,Schemes[Sch]) #Sheme price and number of entry for each sample\n",
    "    Tab_L.loc[Sch]['AMP']=AMP #Average minimum price\n",
    "    Tab_L.loc[Sch]['WAP']=np.sum(B*PS)/np.sum(B) #Weighted average Price\n",
    "    Tab_L.loc[Sch]['ACE']=np.sum(F*NS)/np.sum(B) #Average cost of entry\n",
    "    Tab_L.loc[Sch]['AGP']=np.sum((B*(PS-C))-(F*NS))/np.sum(B) #Average profit\n",
    "    Tab_L.loc[Sch]['ANE']=np.mean(NS) #Average number of entry \n",
    "    \n",
    "    SP=np.sum((B*(PS-C))-(F*NS)) #Sum of profit\n",
    "    \n",
    "    #Variables for monopoly cases\n",
    "    BM=B[NS==0]\n",
    "    CM=C[NS==0]\n",
    "    PSM=PS[NS==0]\n",
    "    \n",
    "    SBP=np.sum((BM*(PSM-CM))) #Sum of brand profit\n",
    "    \n",
    "    Tab_L.loc[Sch]['ShBP']=SBP/SP #Share of brand profit \n",
    "    \n",
    "Tab_L.columns=['Average minimum price','Weighted average Price','Average cost of entry','Average profit','Average number of entry', 'Share of brand profit'] # Changing the name of columns\n",
    "Tab_L.to_excel(\"Table(Large Countries).xlsx\") #Saving the results into a exel file"
   ]
  },
  {
   "cell_type": "code",
   "execution_count": 9,
   "metadata": {},
   "outputs": [],
   "source": [
    "#Calculating the Results for small countries\n",
    "\n",
    "for Sch in Schemes.columns:\n",
    "    NS,PS=FPS(b,C,F,Schemes[Sch]) #Sheme price and number of entry for each sample\n",
    "    Tab_L.loc[Sch]['AMP']=AMp #Average minimum price\n",
    "    Tab_S.loc[Sch]['WAP']=np.sum(b*PS)/np.sum(b) #Weighted average Price\n",
    "    Tab_S.loc[Sch]['ACE']=np.sum(F*NS)/np.sum(b) #Average cost of entry\n",
    "    Tab_S.loc[Sch]['AGP']=np.sum((b*(PS-C))-(F*NS))/np.sum(b) #Average generic profit\n",
    "    Tab_L.loc[Sch]['ANE']=np.mean(NS) #Average number of entry \n",
    "    \n",
    "    SP=np.sum((b*(PS-C))-(F*NS)) #Sum of profit\n",
    "    \n",
    "    #Variables for monopoly cases\n",
    "    bM=b[NS==0]\n",
    "    CM=C[NS==0]\n",
    "    PSM=PS[NS==0]\n",
    "    \n",
    "    SBP=np.sum((bM*(PSM-CM))) #Sum of brand profit\n",
    "    \n",
    "    Tab_L.loc[Sch]['ShBP']=SBP/SP #Share of brand profit \n",
    "    \n",
    "Tab_L.columns=['Average minimum price','Weighted average Price','Average cost of entry','Average profit','Average number of entry', 'Share of brand profit'] # Changing the name of columns\n",
    "Tab_S.to_excel(\"Table(Small Countries).xlsx\") #Saving the results into a exel file"
   ]
  },
  {
   "cell_type": "code",
   "execution_count": null,
   "metadata": {},
   "outputs": [],
   "source": []
  }
 ],
 "metadata": {
  "kernelspec": {
   "display_name": "Python 3",
   "language": "python",
   "name": "python3"
  },
  "language_info": {
   "codemirror_mode": {
    "name": "ipython",
    "version": 3
   },
   "file_extension": ".py",
   "mimetype": "text/x-python",
   "name": "python",
   "nbconvert_exporter": "python",
   "pygments_lexer": "ipython3",
   "version": "3.6.5"
  }
 },
 "nbformat": 4,
 "nbformat_minor": 2
}
