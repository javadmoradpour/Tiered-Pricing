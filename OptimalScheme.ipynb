{
 "cells": [
  {
   "cell_type": "markdown",
   "metadata": {},
   "source": [
    "In this notebook, I calculate the tiers that would minimize the Weighted Average Price for a given number of tiers in the large market case. To do that, first, I import all the required packages: "
   ]
  },
  {
   "cell_type": "code",
   "execution_count": 1,
   "metadata": {},
   "outputs": [],
   "source": [
    "import numpy as np\n",
    "\n",
    "from scipy.stats import beta\n",
    "from scipy.stats import gamma\n",
    "from scipy.stats import uniform\n",
    "\n",
    "from scipy.optimize import minimize\n",
    "\n",
    "from scipy import optimize"
   ]
  },
  {
   "cell_type": "markdown",
   "metadata": {},
   "source": [
    "Next, I write a function for selecting price from a price scheme for each sample:"
   ]
  },
  {
   "cell_type": "code",
   "execution_count": 2,
   "metadata": {},
   "outputs": [],
   "source": [
    "#Function for selecting price from a price scheme for each sample.\n",
    "\n",
    "def FPS(b,c,f,scheme):\n",
    "    d=len(b) #Number of samples\n",
    "    scheme = scheme[~np.isnan(scheme)] #Delete NaN value from the scheme\n",
    "    Ls=len(scheme) #length of the price scheme\n",
    "    \n",
    "    Ns=np.zeros(d) #Number of entry for each sample\n",
    "    Ps=np.ones(d) #Selected price for each sample\n",
    "\n",
    "    for i in range(d):\n",
    "        n=0 \n",
    "        pn=scheme[0] \n",
    "        pn1=scheme[1] #price of the next entry\n",
    "        pi=pn1-c[i]-((f[i])/b[i]) #profit of the first entry. \n",
    "        \n",
    "        while (0<= pi):\n",
    "            n=n+1 #Number of entries\n",
    "            pn=pn1 #Price when we have n entries\n",
    "            \n",
    "            if (n+1) < Ls:\n",
    "                pn1=scheme[n+1]\n",
    "            else:\n",
    "                pn1=scheme[Ls-1]\n",
    "                \n",
    "            pi=pn1-c[i]-((2*(n+1)*f[i])/b[i]) #profit of the next entry.\n",
    "        \n",
    "        Ns[i]=n\n",
    "        Ps[i]=pn \n",
    "\n",
    "    return Ns,Ps"
   ]
  },
  {
   "cell_type": "markdown",
   "metadata": {},
   "source": [
    "Setting up the parameters for the simulation:"
   ]
  },
  {
   "cell_type": "code",
   "execution_count": 3,
   "metadata": {},
   "outputs": [],
   "source": [
    "B_shape, B_scale = 1.5, 10000000 #gamma function for B large country\n",
    "C_alpha, C_beta = 1.3, 5 #beta function for C\n",
    "F_min,F_max=30000, 500000 #min and max of the fixed cost"
   ]
  },
  {
   "cell_type": "markdown",
   "metadata": {},
   "source": [
    "Random draw for each of the main variables:"
   ]
  },
  {
   "cell_type": "code",
   "execution_count": 4,
   "metadata": {},
   "outputs": [],
   "source": [
    "D=1000 #Number of samples\n",
    "seed=1 #seed for random generator\n",
    "\n",
    "B = gamma.rvs(B_shape, scale=B_scale, size=D, random_state=seed) #Brand market size for large countries\n",
    "C = beta.rvs(C_alpha, C_beta, size=D, random_state=seed) #Generic variable cost\n",
    "F = uniform.rvs(loc=F_min, scale=(F_max-F_min), size=D, random_state=seed) #Generic entry cost, per year"
   ]
  },
  {
   "cell_type": "markdown",
   "metadata": {},
   "source": [
    "Then, I write down the optimization function which we need to minimize:"
   ]
  },
  {
   "cell_type": "code",
   "execution_count": 5,
   "metadata": {},
   "outputs": [],
   "source": [
    "def AveragePrice(Sch):\n",
    "    Sch=np.append([1],Sch)\n",
    "    NS,PS=FPS(B,C,F,Sch)\n",
    "    WAP=np.sum(B*PS)/np.sum(B)\n",
    "    return WAP"
   ]
  },
  {
   "cell_type": "markdown",
   "metadata": {},
   "source": [
    "Next, I use the \"differential evolution algorithm\" to find the optimal tiers scheme for a given number of tires. We should notice that all of the tiers are between 0 and 1. Therefore I set the range for optimization parameters equal to (0,1). This algorithm is not the fastest option, but it is reliable in this case. "
   ]
  },
  {
   "cell_type": "code",
   "execution_count": 6,
   "metadata": {},
   "outputs": [
    {
     "name": "stdout",
     "output_type": "stream",
     "text": [
      "Optimum price scheme: [0.5344142  0.37110395 0.2872507  0.20532636 0.12534962]\n",
      "Weighted average Price: 0.34853089390965164\n"
     ]
    }
   ],
   "source": [
    "NT=5 #Number of tiers\n",
    "\n",
    "bounds = [ (0,1) for i in range(NT)] #Setting up the range of each tier\n",
    "\n",
    "OpSch = optimize.differential_evolution(AveragePrice, bounds, tol=1e-4, polish=True).x #Minimization\n",
    "\n",
    "#Printing the results:\n",
    "\n",
    "print(\"Optimum price scheme:\",OpSch)\n",
    "\n",
    "print(\"Weighted average Price:\",AveragePrice(OpSch))"
   ]
  },
  {
   "cell_type": "markdown",
   "metadata": {},
   "source": [
    "I also use the 'Powell' method to calculate the optimized scheme. This method is fast, but it is not reliable when the number of tiers increases: "
   ]
  },
  {
   "cell_type": "code",
   "execution_count": 7,
   "metadata": {},
   "outputs": [
    {
     "name": "stdout",
     "output_type": "stream",
     "text": [
      "Optimum price scheme: [0.53440897 0.39132327 0.30560658 0.21265214 0.12532067]\n",
      "Weighted average Price: 0.34940011818820976\n"
     ]
    }
   ],
   "source": [
    "#This method is fastest, but not reliable for a bigger number of tiers.\n",
    "\n",
    "NSch=5\n",
    "\n",
    "Sch0=np.linspace(1, 0, NSch+2)[1:-1] #Set the initial state\n",
    "\n",
    "method='Powell' #choose method from:{'Nelder-Mead','Powell','COBYLA'}\n",
    "\n",
    "Results = minimize(AveragePrice, Sch0, method=method, tol=None) #Minimization\n",
    "\n",
    "OpSch=Results.x #Save the results\n",
    "\n",
    "print(\"Optimum price scheme:\",OpSch)\n",
    "\n",
    "print(\"Weighted average Price:\",AveragePrice(OpSch))"
   ]
  },
  {
   "cell_type": "code",
   "execution_count": null,
   "metadata": {},
   "outputs": [],
   "source": []
  }
 ],
 "metadata": {
  "kernelspec": {
   "display_name": "Python 3",
   "language": "python",
   "name": "python3"
  },
  "language_info": {
   "codemirror_mode": {
    "name": "ipython",
    "version": 3
   },
   "file_extension": ".py",
   "mimetype": "text/x-python",
   "name": "python",
   "nbconvert_exporter": "python",
   "pygments_lexer": "ipython3",
   "version": "3.6.5"
  }
 },
 "nbformat": 4,
 "nbformat_minor": 2
}
